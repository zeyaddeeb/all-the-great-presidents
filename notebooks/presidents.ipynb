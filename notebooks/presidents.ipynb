{
 "cells": [
  {
   "cell_type": "code",
   "execution_count": 1,
   "metadata": {},
   "outputs": [],
   "source": [
    "%load_ext lab_black"
   ]
  },
  {
   "cell_type": "code",
   "execution_count": 69,
   "metadata": {},
   "outputs": [],
   "source": [
    "import os\n",
    "from typing import List\n",
    "\n",
    "from bs4 import BeautifulSoup, SoupStrainer\n",
    "import pandas as pd\n",
    "import requests\n",
    "import textstat\n",
    "from gensim.summarization import keywords"
   ]
  },
  {
   "cell_type": "code",
   "execution_count": 3,
   "metadata": {},
   "outputs": [],
   "source": [
    "# exec_ords_df = pd.read_html(\n",
    "#     \"https://en.wikipedia.org/wiki/List_of_United_States_federal_executive_orders\"\n",
    "# )[0]"
   ]
  },
  {
   "cell_type": "code",
   "execution_count": 4,
   "metadata": {},
   "outputs": [],
   "source": [
    "inagurations_df = pd.read_html(\n",
    "    \"https://www.presidency.ucsb.edu/documents/presidential-documents-archive-guidebook/inaugural-addresses\"\n",
    ")[0]"
   ]
  },
  {
   "cell_type": "code",
   "execution_count": 5,
   "metadata": {},
   "outputs": [],
   "source": [
    "inagurations_df.dropna(subset=[\"President\"], inplace=True)"
   ]
  },
  {
   "cell_type": "code",
   "execution_count": 6,
   "metadata": {},
   "outputs": [
    {
     "data": {
      "text/html": [
       "<div>\n",
       "<style scoped>\n",
       "    .dataframe tbody tr th:only-of-type {\n",
       "        vertical-align: middle;\n",
       "    }\n",
       "\n",
       "    .dataframe tbody tr th {\n",
       "        vertical-align: top;\n",
       "    }\n",
       "\n",
       "    .dataframe thead th {\n",
       "        text-align: right;\n",
       "    }\n",
       "</style>\n",
       "<table border=\"1\" class=\"dataframe\">\n",
       "  <thead>\n",
       "    <tr style=\"text-align: right;\">\n",
       "      <th></th>\n",
       "      <th>President</th>\n",
       "      <th>Date</th>\n",
       "      <th>Words</th>\n",
       "    </tr>\n",
       "  </thead>\n",
       "  <tbody>\n",
       "    <tr>\n",
       "      <th>0</th>\n",
       "      <td>George Washington</td>\n",
       "      <td>April 30, 1789</td>\n",
       "      <td>1431</td>\n",
       "    </tr>\n",
       "    <tr>\n",
       "      <th>3</th>\n",
       "      <td>John Adams</td>\n",
       "      <td>March 4, 1797</td>\n",
       "      <td>2321</td>\n",
       "    </tr>\n",
       "    <tr>\n",
       "      <th>5</th>\n",
       "      <td>Thomas Jefferson</td>\n",
       "      <td>March 4, 1801</td>\n",
       "      <td>1730</td>\n",
       "    </tr>\n",
       "    <tr>\n",
       "      <th>8</th>\n",
       "      <td>James Madison</td>\n",
       "      <td>March 4, 1809</td>\n",
       "      <td>1177</td>\n",
       "    </tr>\n",
       "    <tr>\n",
       "      <th>11</th>\n",
       "      <td>James Monroe</td>\n",
       "      <td>March 4, 1817</td>\n",
       "      <td>3375</td>\n",
       "    </tr>\n",
       "  </tbody>\n",
       "</table>\n",
       "</div>"
      ],
      "text/plain": [
       "            President            Date Words\n",
       "0   George Washington  April 30, 1789  1431\n",
       "3          John Adams   March 4, 1797  2321\n",
       "5    Thomas Jefferson   March 4, 1801  1730\n",
       "8       James Madison   March 4, 1809  1177\n",
       "11       James Monroe   March 4, 1817  3375"
      ]
     },
     "execution_count": 6,
     "metadata": {},
     "output_type": "execute_result"
    }
   ],
   "source": [
    "inagurations_df.head()"
   ]
  },
  {
   "cell_type": "code",
   "execution_count": 7,
   "metadata": {},
   "outputs": [],
   "source": [
    "inagurations_df[\"Date\"] = pd.to_datetime(inagurations_df[\"Date\"], errors=\"coerce\")"
   ]
  },
  {
   "cell_type": "code",
   "execution_count": 8,
   "metadata": {},
   "outputs": [],
   "source": [
    "inagurations_df[\"Words\"] = pd.to_numeric(inagurations_df[\"Words\"], errors=\"coerce\")"
   ]
  },
  {
   "cell_type": "code",
   "execution_count": 9,
   "metadata": {},
   "outputs": [],
   "source": [
    "addresses_page = BeautifulSoup(\n",
    "    requests.get(\n",
    "        \"https://www.presidency.ucsb.edu/documents/presidential-documents-archive-guidebook/inaugural-addresses\"\n",
    "    ).content\n",
    ")\n",
    "speeches = [l.get(\"href\") for l in addresses_page.findAll(\"table\")[0].findAll(\"a\")]"
   ]
  },
  {
   "cell_type": "code",
   "execution_count": 10,
   "metadata": {},
   "outputs": [],
   "source": [
    "def get_speech(link: str) -> List[str]:\n",
    "    html = BeautifulSoup(requests.get(link).content)\n",
    "    president_name = html.findAll(\"h3\", {\"class\": \"diet-title\"})[0].text\n",
    "    speech_date = html.findAll(\"span\", {\"class\": \"date-display-single\"})[0].text\n",
    "    speech_text = (\n",
    "        html.findAll(\"div\", {\"class\": \"field-docs-content\"})[0]\n",
    "        .text.replace(\"\\n\", \" \")\n",
    "        .strip()\n",
    "    )\n",
    "\n",
    "    return [president_name, speech_date, speech_text]"
   ]
  },
  {
   "cell_type": "code",
   "execution_count": 11,
   "metadata": {},
   "outputs": [],
   "source": [
    "# speeches_text_df = pd.DataFrame(\n",
    "#     [get_speech(speech) for speech in speeches], columns=[\"President\", \"Date\", \"Text\"]\n",
    "# )\n",
    "# speeches_text_df.to_csv(os.path.join(\"data\", \"speeches_text.csv\"), index=None)"
   ]
  },
  {
   "cell_type": "code",
   "execution_count": 43,
   "metadata": {},
   "outputs": [],
   "source": [
    "speeches_text_df = pd.read_csv(os.path.join(\"data\", \"speeches_text.csv\"))"
   ]
  },
  {
   "cell_type": "code",
   "execution_count": 44,
   "metadata": {},
   "outputs": [
    {
     "data": {
      "text/html": [
       "<div>\n",
       "<style scoped>\n",
       "    .dataframe tbody tr th:only-of-type {\n",
       "        vertical-align: middle;\n",
       "    }\n",
       "\n",
       "    .dataframe tbody tr th {\n",
       "        vertical-align: top;\n",
       "    }\n",
       "\n",
       "    .dataframe thead th {\n",
       "        text-align: right;\n",
       "    }\n",
       "</style>\n",
       "<table border=\"1\" class=\"dataframe\">\n",
       "  <thead>\n",
       "    <tr style=\"text-align: right;\">\n",
       "      <th></th>\n",
       "      <th>President</th>\n",
       "      <th>Date</th>\n",
       "      <th>Text</th>\n",
       "    </tr>\n",
       "  </thead>\n",
       "  <tbody>\n",
       "    <tr>\n",
       "      <th>0</th>\n",
       "      <td>George Washington</td>\n",
       "      <td>April 30, 1789</td>\n",
       "      <td>Fellow-Citizens of the Senate and of the House...</td>\n",
       "    </tr>\n",
       "    <tr>\n",
       "      <th>1</th>\n",
       "      <td>George Washington</td>\n",
       "      <td>March 04, 1793</td>\n",
       "      <td>Fellow Citizens: I AM again called upon by the...</td>\n",
       "    </tr>\n",
       "    <tr>\n",
       "      <th>2</th>\n",
       "      <td>John Adams</td>\n",
       "      <td>March 04, 1797</td>\n",
       "      <td>WHEN it was first perceived, in early times, t...</td>\n",
       "    </tr>\n",
       "    <tr>\n",
       "      <th>3</th>\n",
       "      <td>Thomas Jefferson</td>\n",
       "      <td>March 04, 1801</td>\n",
       "      <td>Friends and Fellow-Citizens: CALLED upon to un...</td>\n",
       "    </tr>\n",
       "    <tr>\n",
       "      <th>4</th>\n",
       "      <td>Thomas Jefferson</td>\n",
       "      <td>March 04, 1805</td>\n",
       "      <td>PROCEEDING, fellow-citizens, to that qualifica...</td>\n",
       "    </tr>\n",
       "  </tbody>\n",
       "</table>\n",
       "</div>"
      ],
      "text/plain": [
       "           President            Date  \\\n",
       "0  George Washington  April 30, 1789   \n",
       "1  George Washington  March 04, 1793   \n",
       "2         John Adams  March 04, 1797   \n",
       "3   Thomas Jefferson  March 04, 1801   \n",
       "4   Thomas Jefferson  March 04, 1805   \n",
       "\n",
       "                                                Text  \n",
       "0  Fellow-Citizens of the Senate and of the House...  \n",
       "1  Fellow Citizens: I AM again called upon by the...  \n",
       "2  WHEN it was first perceived, in early times, t...  \n",
       "3  Friends and Fellow-Citizens: CALLED upon to un...  \n",
       "4  PROCEEDING, fellow-citizens, to that qualifica...  "
      ]
     },
     "execution_count": 44,
     "metadata": {},
     "output_type": "execute_result"
    }
   ],
   "source": [
    "speeches_text_df.head()"
   ]
  },
  {
   "cell_type": "code",
   "execution_count": 45,
   "metadata": {},
   "outputs": [],
   "source": [
    "speeches_text_df[\"Date\"] = pd.to_datetime(speeches_text_df[\"Date\"])"
   ]
  },
  {
   "cell_type": "code",
   "execution_count": 46,
   "metadata": {},
   "outputs": [],
   "source": [
    "inaguration_speeches_df = inagurations_df.merge(\n",
    "    speeches_text_df, how=\"left\", on=[\"Date\"]\n",
    ")"
   ]
  },
  {
   "cell_type": "code",
   "execution_count": 47,
   "metadata": {},
   "outputs": [],
   "source": [
    "inaguration_speeches_df = inaguration_speeches_df.rename(\n",
    "    columns={\n",
    "        \"President_x\": \"president\",\n",
    "        \"Date\": \"inauguration_date\",\n",
    "        \"Text\": \"inauguration_speech_text\",\n",
    "        \"Words\": \"word_count\",\n",
    "    }\n",
    ")[[\"president\", \"inauguration_date\", \"inauguration_speech_text\", \"word_count\"]]"
   ]
  },
  {
   "cell_type": "code",
   "execution_count": 50,
   "metadata": {},
   "outputs": [],
   "source": [
    "inaguration_speeches_df[\"inauguration_speech_text\"].fillna(\"\", inplace=True)\n",
    "inaguration_speeches_df[\"word_count\"].fillna(0, inplace=True)"
   ]
  },
  {
   "cell_type": "code",
   "execution_count": 197,
   "metadata": {},
   "outputs": [
    {
     "data": {
      "text/html": [
       "<div>\n",
       "<style scoped>\n",
       "    .dataframe tbody tr th:only-of-type {\n",
       "        vertical-align: middle;\n",
       "    }\n",
       "\n",
       "    .dataframe tbody tr th {\n",
       "        vertical-align: top;\n",
       "    }\n",
       "\n",
       "    .dataframe thead th {\n",
       "        text-align: right;\n",
       "    }\n",
       "</style>\n",
       "<table border=\"1\" class=\"dataframe\">\n",
       "  <thead>\n",
       "    <tr style=\"text-align: right;\">\n",
       "      <th></th>\n",
       "      <th>president</th>\n",
       "      <th>inauguration_date</th>\n",
       "      <th>inauguration_speech_text</th>\n",
       "      <th>word_count</th>\n",
       "      <th>flesch_reading_score</th>\n",
       "    </tr>\n",
       "  </thead>\n",
       "  <tbody>\n",
       "    <tr>\n",
       "      <th>0</th>\n",
       "      <td>George Washington</td>\n",
       "      <td>1789-04-30</td>\n",
       "      <td>Fellow-Citizens of the Senate and of the House...</td>\n",
       "      <td>1431.0</td>\n",
       "      <td>8.34</td>\n",
       "    </tr>\n",
       "    <tr>\n",
       "      <th>1</th>\n",
       "      <td>John Adams</td>\n",
       "      <td>1797-03-04</td>\n",
       "      <td>WHEN it was first perceived, in early times, t...</td>\n",
       "      <td>2321.0</td>\n",
       "      <td>7.83</td>\n",
       "    </tr>\n",
       "    <tr>\n",
       "      <th>2</th>\n",
       "      <td>Thomas Jefferson</td>\n",
       "      <td>1801-03-04</td>\n",
       "      <td>Friends and Fellow-Citizens: CALLED upon to un...</td>\n",
       "      <td>1730.0</td>\n",
       "      <td>37.41</td>\n",
       "    </tr>\n",
       "    <tr>\n",
       "      <th>3</th>\n",
       "      <td>James Madison</td>\n",
       "      <td>1809-03-04</td>\n",
       "      <td>Unwilling to depart from examples of the most ...</td>\n",
       "      <td>1177.0</td>\n",
       "      <td>14.74</td>\n",
       "    </tr>\n",
       "    <tr>\n",
       "      <th>4</th>\n",
       "      <td>James Monroe</td>\n",
       "      <td>1817-03-04</td>\n",
       "      <td>I should be destitute of feeling if I was not ...</td>\n",
       "      <td>3375.0</td>\n",
       "      <td>52.12</td>\n",
       "    </tr>\n",
       "  </tbody>\n",
       "</table>\n",
       "</div>"
      ],
      "text/plain": [
       "           president inauguration_date  \\\n",
       "0  George Washington        1789-04-30   \n",
       "1         John Adams        1797-03-04   \n",
       "2   Thomas Jefferson        1801-03-04   \n",
       "3      James Madison        1809-03-04   \n",
       "4       James Monroe        1817-03-04   \n",
       "\n",
       "                            inauguration_speech_text  word_count  \\\n",
       "0  Fellow-Citizens of the Senate and of the House...      1431.0   \n",
       "1  WHEN it was first perceived, in early times, t...      2321.0   \n",
       "2  Friends and Fellow-Citizens: CALLED upon to un...      1730.0   \n",
       "3  Unwilling to depart from examples of the most ...      1177.0   \n",
       "4  I should be destitute of feeling if I was not ...      3375.0   \n",
       "\n",
       "   flesch_reading_score  \n",
       "0                  8.34  \n",
       "1                  7.83  \n",
       "2                 37.41  \n",
       "3                 14.74  \n",
       "4                 52.12  "
      ]
     },
     "execution_count": 197,
     "metadata": {},
     "output_type": "execute_result"
    }
   ],
   "source": [
    "inaguration_speeches_df.head()"
   ]
  },
  {
   "cell_type": "code",
   "execution_count": 61,
   "metadata": {},
   "outputs": [],
   "source": [
    "inaguration_speeches_df[\"flesch_reading_score\"] = (\n",
    "    inaguration_speeches_df[\"inauguration_speech_text\"]\n",
    "    .apply(textstat.flesch_reading_ease)\n",
    "    .replace(206.84, 0)\n",
    ")"
   ]
  },
  {
   "cell_type": "code",
   "execution_count": 67,
   "metadata": {},
   "outputs": [
    {
     "data": {
      "text/plain": [
       "42.66333333333333"
      ]
     },
     "execution_count": 67,
     "metadata": {},
     "output_type": "execute_result"
    }
   ],
   "source": [
    "inaguration_speeches_df[\"flesch_reading_score\"].mean()"
   ]
  },
  {
   "cell_type": "code",
   "execution_count": null,
   "metadata": {},
   "outputs": [],
   "source": []
  },
  {
   "cell_type": "code",
   "execution_count": 192,
   "metadata": {},
   "outputs": [
    {
     "name": "stdout",
     "output_type": "stream",
     "text": [
      "[('country', 0.03631382082721474), ('people', 0.025489429342477683), ('nation', 0.02445332607514262), ('dreams', 0.016894422479732465), ('world', 0.016143652414669786)]\n"
     ]
    }
   ],
   "source": [
    "from pke.unsupervised import TopicRank\n",
    "\n",
    "extractor = TopicRank()\n",
    "extractor.load_document(\n",
    "    inaguration_speeches_df.iloc[-1][\"inauguration_speech_text\"],\n",
    "    language=\"en\",\n",
    "    normalization=\"stemming\",\n",
    ")\n",
    "\n",
    "extractor.candidate_selection(pos={\"NOUN\"})\n",
    "\n",
    "extractor.candidate_weighting(method=\"average\")\n",
    "\n",
    "print(extractor.get_n_best(n=5))"
   ]
  },
  {
   "cell_type": "code",
   "execution_count": null,
   "metadata": {},
   "outputs": [],
   "source": []
  },
  {
   "cell_type": "code",
   "execution_count": null,
   "metadata": {},
   "outputs": [],
   "source": []
  }
 ],
 "metadata": {
  "kernelspec": {
   "display_name": "Python 3",
   "language": "python",
   "name": "python3"
  },
  "language_info": {
   "codemirror_mode": {
    "name": "ipython",
    "version": 3
   },
   "file_extension": ".py",
   "mimetype": "text/x-python",
   "name": "python",
   "nbconvert_exporter": "python",
   "pygments_lexer": "ipython3",
   "version": "3.7.3"
  }
 },
 "nbformat": 4,
 "nbformat_minor": 4
}
